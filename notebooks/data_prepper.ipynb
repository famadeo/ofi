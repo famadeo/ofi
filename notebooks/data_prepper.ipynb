{
 "cells": [
  {
   "cell_type": "code",
   "execution_count": 8,
   "metadata": {},
   "outputs": [
    {
     "data": {
      "text/html": [
       "<div><style>\n",
       ".dataframe > thead > tr,\n",
       ".dataframe > tbody > tr {\n",
       "  text-align: right;\n",
       "  white-space: pre-wrap;\n",
       "}\n",
       "</style>\n",
       "<small>shape: (5, 74)</small><table border=\"1\" class=\"dataframe\"><thead><tr><th>ts_recv</th><th>ts_event</th><th>rtype</th><th>publisher_id</th><th>instrument_id</th><th>action</th><th>side</th><th>depth</th><th>price</th><th>size</th><th>flags</th><th>ts_in_delta</th><th>sequence</th><th>bid_px_00</th><th>ask_px_00</th><th>bid_sz_00</th><th>ask_sz_00</th><th>bid_ct_00</th><th>ask_ct_00</th><th>bid_px_01</th><th>ask_px_01</th><th>bid_sz_01</th><th>ask_sz_01</th><th>bid_ct_01</th><th>ask_ct_01</th><th>bid_px_02</th><th>ask_px_02</th><th>bid_sz_02</th><th>ask_sz_02</th><th>bid_ct_02</th><th>ask_ct_02</th><th>bid_px_03</th><th>ask_px_03</th><th>bid_sz_03</th><th>ask_sz_03</th><th>bid_ct_03</th><th>ask_ct_03</th><th>bid_px_04</th><th>ask_px_04</th><th>bid_sz_04</th><th>ask_sz_04</th><th>bid_ct_04</th><th>ask_ct_04</th><th>bid_px_05</th><th>ask_px_05</th><th>bid_sz_05</th><th>ask_sz_05</th><th>bid_ct_05</th><th>ask_ct_05</th><th>bid_px_06</th><th>ask_px_06</th><th>bid_sz_06</th><th>ask_sz_06</th><th>bid_ct_06</th><th>ask_ct_06</th><th>bid_px_07</th><th>ask_px_07</th><th>bid_sz_07</th><th>ask_sz_07</th><th>bid_ct_07</th><th>ask_ct_07</th><th>bid_px_08</th><th>ask_px_08</th><th>bid_sz_08</th><th>ask_sz_08</th><th>bid_ct_08</th><th>ask_ct_08</th><th>bid_px_09</th><th>ask_px_09</th><th>bid_sz_09</th><th>ask_sz_09</th><th>bid_ct_09</th><th>ask_ct_09</th><th>symbol</th></tr><tr><td>str</td><td>str</td><td>i64</td><td>i64</td><td>i64</td><td>str</td><td>str</td><td>i64</td><td>f64</td><td>i64</td><td>i64</td><td>i64</td><td>i64</td><td>f64</td><td>f64</td><td>i64</td><td>i64</td><td>i64</td><td>i64</td><td>f64</td><td>f64</td><td>i64</td><td>i64</td><td>i64</td><td>i64</td><td>f64</td><td>f64</td><td>i64</td><td>i64</td><td>i64</td><td>i64</td><td>str</td><td>f64</td><td>i64</td><td>i64</td><td>i64</td><td>i64</td><td>str</td><td>f64</td><td>i64</td><td>i64</td><td>i64</td><td>i64</td><td>str</td><td>str</td><td>i64</td><td>i64</td><td>i64</td><td>i64</td><td>str</td><td>str</td><td>i64</td><td>i64</td><td>i64</td><td>i64</td><td>str</td><td>str</td><td>i64</td><td>i64</td><td>i64</td><td>i64</td><td>str</td><td>str</td><td>i64</td><td>i64</td><td>i64</td><td>i64</td><td>str</td><td>str</td><td>i64</td><td>i64</td><td>i64</td><td>i64</td><td>str</td></tr></thead><tbody><tr><td>&quot;2024-12-12T09:00:00.003098865Z&quot;</td><td>&quot;2024-12-12T09:00:00.002932488Z&quot;</td><td>10</td><td>2</td><td>780</td><td>&quot;A&quot;</td><td>&quot;N&quot;</td><td>0</td><td>270.98</td><td>25</td><td>130</td><td>166377</td><td>283354</td><td>270.98</td><td>null</td><td>25</td><td>0</td><td>1</td><td>0</td><td>null</td><td>null</td><td>0</td><td>0</td><td>0</td><td>0</td><td>null</td><td>null</td><td>0</td><td>0</td><td>0</td><td>0</td><td>null</td><td>null</td><td>0</td><td>0</td><td>0</td><td>0</td><td>null</td><td>null</td><td>0</td><td>0</td><td>0</td><td>0</td><td>null</td><td>null</td><td>0</td><td>0</td><td>0</td><td>0</td><td>null</td><td>null</td><td>0</td><td>0</td><td>0</td><td>0</td><td>null</td><td>null</td><td>0</td><td>0</td><td>0</td><td>0</td><td>null</td><td>null</td><td>0</td><td>0</td><td>0</td><td>0</td><td>null</td><td>null</td><td>0</td><td>0</td><td>0</td><td>0</td><td>&quot;AMGN&quot;</td></tr><tr><td>&quot;2024-12-12T09:00:00.003413711Z&quot;</td><td>&quot;2024-12-12T09:00:00.003247133Z&quot;</td><td>10</td><td>2</td><td>780</td><td>&quot;A&quot;</td><td>&quot;A&quot;</td><td>0</td><td>276.08</td><td>25</td><td>130</td><td>166578</td><td>283365</td><td>270.98</td><td>276.08</td><td>25</td><td>25</td><td>1</td><td>1</td><td>null</td><td>null</td><td>0</td><td>0</td><td>0</td><td>0</td><td>null</td><td>null</td><td>0</td><td>0</td><td>0</td><td>0</td><td>null</td><td>null</td><td>0</td><td>0</td><td>0</td><td>0</td><td>null</td><td>null</td><td>0</td><td>0</td><td>0</td><td>0</td><td>null</td><td>null</td><td>0</td><td>0</td><td>0</td><td>0</td><td>null</td><td>null</td><td>0</td><td>0</td><td>0</td><td>0</td><td>null</td><td>null</td><td>0</td><td>0</td><td>0</td><td>0</td><td>null</td><td>null</td><td>0</td><td>0</td><td>0</td><td>0</td><td>null</td><td>null</td><td>0</td><td>0</td><td>0</td><td>0</td><td>&quot;AMGN&quot;</td></tr><tr><td>&quot;2024-12-12T09:00:00.013663864Z&quot;</td><td>&quot;2024-12-12T09:00:00.013497510Z&quot;</td><td>10</td><td>2</td><td>16244</td><td>&quot;A&quot;</td><td>&quot;N&quot;</td><td>0</td><td>427.0</td><td>680</td><td>130</td><td>166354</td><td>283688</td><td>null</td><td>427.0</td><td>0</td><td>680</td><td>0</td><td>1</td><td>null</td><td>null</td><td>0</td><td>0</td><td>0</td><td>0</td><td>null</td><td>null</td><td>0</td><td>0</td><td>0</td><td>0</td><td>null</td><td>null</td><td>0</td><td>0</td><td>0</td><td>0</td><td>null</td><td>null</td><td>0</td><td>0</td><td>0</td><td>0</td><td>null</td><td>null</td><td>0</td><td>0</td><td>0</td><td>0</td><td>null</td><td>null</td><td>0</td><td>0</td><td>0</td><td>0</td><td>null</td><td>null</td><td>0</td><td>0</td><td>0</td><td>0</td><td>null</td><td>null</td><td>0</td><td>0</td><td>0</td><td>0</td><td>null</td><td>null</td><td>0</td><td>0</td><td>0</td><td>0</td><td>&quot;TSLA&quot;</td></tr><tr><td>&quot;2024-12-12T09:00:00.013746435Z&quot;</td><td>&quot;2024-12-12T09:00:00.013577994Z&quot;</td><td>10</td><td>2</td><td>16244</td><td>&quot;A&quot;</td><td>&quot;A&quot;</td><td>1</td><td>428.0</td><td>800</td><td>130</td><td>168441</td><td>283694</td><td>null</td><td>427.0</td><td>0</td><td>680</td><td>0</td><td>1</td><td>null</td><td>428.0</td><td>0</td><td>800</td><td>0</td><td>1</td><td>null</td><td>null</td><td>0</td><td>0</td><td>0</td><td>0</td><td>null</td><td>null</td><td>0</td><td>0</td><td>0</td><td>0</td><td>null</td><td>null</td><td>0</td><td>0</td><td>0</td><td>0</td><td>null</td><td>null</td><td>0</td><td>0</td><td>0</td><td>0</td><td>null</td><td>null</td><td>0</td><td>0</td><td>0</td><td>0</td><td>null</td><td>null</td><td>0</td><td>0</td><td>0</td><td>0</td><td>null</td><td>null</td><td>0</td><td>0</td><td>0</td><td>0</td><td>null</td><td>null</td><td>0</td><td>0</td><td>0</td><td>0</td><td>&quot;TSLA&quot;</td></tr><tr><td>&quot;2024-12-12T09:00:00.014044826Z&quot;</td><td>&quot;2024-12-12T09:00:00.013878689Z&quot;</td><td>10</td><td>2</td><td>38</td><td>&quot;A&quot;</td><td>&quot;N&quot;</td><td>0</td><td>258.9</td><td>41</td><td>130</td><td>166137</td><td>283706</td><td>null</td><td>258.9</td><td>0</td><td>41</td><td>0</td><td>1</td><td>null</td><td>null</td><td>0</td><td>0</td><td>0</td><td>0</td><td>null</td><td>null</td><td>0</td><td>0</td><td>0</td><td>0</td><td>null</td><td>null</td><td>0</td><td>0</td><td>0</td><td>0</td><td>null</td><td>null</td><td>0</td><td>0</td><td>0</td><td>0</td><td>null</td><td>null</td><td>0</td><td>0</td><td>0</td><td>0</td><td>null</td><td>null</td><td>0</td><td>0</td><td>0</td><td>0</td><td>null</td><td>null</td><td>0</td><td>0</td><td>0</td><td>0</td><td>null</td><td>null</td><td>0</td><td>0</td><td>0</td><td>0</td><td>null</td><td>null</td><td>0</td><td>0</td><td>0</td><td>0</td><td>&quot;AAPL&quot;</td></tr></tbody></table></div>"
      ],
      "text/plain": [
       "shape: (5, 74)\n",
       "┌─────────────┬─────────────┬───────┬─────────────┬───┬───────────┬───────────┬───────────┬────────┐\n",
       "│ ts_recv     ┆ ts_event    ┆ rtype ┆ publisher_i ┆ … ┆ ask_sz_09 ┆ bid_ct_09 ┆ ask_ct_09 ┆ symbol │\n",
       "│ ---         ┆ ---         ┆ ---   ┆ d           ┆   ┆ ---       ┆ ---       ┆ ---       ┆ ---    │\n",
       "│ str         ┆ str         ┆ i64   ┆ ---         ┆   ┆ i64       ┆ i64       ┆ i64       ┆ str    │\n",
       "│             ┆             ┆       ┆ i64         ┆   ┆           ┆           ┆           ┆        │\n",
       "╞═════════════╪═════════════╪═══════╪═════════════╪═══╪═══════════╪═══════════╪═══════════╪════════╡\n",
       "│ 2024-12-12T ┆ 2024-12-12T ┆ 10    ┆ 2           ┆ … ┆ 0         ┆ 0         ┆ 0         ┆ AMGN   │\n",
       "│ 09:00:00.00 ┆ 09:00:00.00 ┆       ┆             ┆   ┆           ┆           ┆           ┆        │\n",
       "│ 3098865Z    ┆ 2932488Z    ┆       ┆             ┆   ┆           ┆           ┆           ┆        │\n",
       "│ 2024-12-12T ┆ 2024-12-12T ┆ 10    ┆ 2           ┆ … ┆ 0         ┆ 0         ┆ 0         ┆ AMGN   │\n",
       "│ 09:00:00.00 ┆ 09:00:00.00 ┆       ┆             ┆   ┆           ┆           ┆           ┆        │\n",
       "│ 3413711Z    ┆ 3247133Z    ┆       ┆             ┆   ┆           ┆           ┆           ┆        │\n",
       "│ 2024-12-12T ┆ 2024-12-12T ┆ 10    ┆ 2           ┆ … ┆ 0         ┆ 0         ┆ 0         ┆ TSLA   │\n",
       "│ 09:00:00.01 ┆ 09:00:00.01 ┆       ┆             ┆   ┆           ┆           ┆           ┆        │\n",
       "│ 3663864Z    ┆ 3497510Z    ┆       ┆             ┆   ┆           ┆           ┆           ┆        │\n",
       "│ 2024-12-12T ┆ 2024-12-12T ┆ 10    ┆ 2           ┆ … ┆ 0         ┆ 0         ┆ 0         ┆ TSLA   │\n",
       "│ 09:00:00.01 ┆ 09:00:00.01 ┆       ┆             ┆   ┆           ┆           ┆           ┆        │\n",
       "│ 3746435Z    ┆ 3577994Z    ┆       ┆             ┆   ┆           ┆           ┆           ┆        │\n",
       "│ 2024-12-12T ┆ 2024-12-12T ┆ 10    ┆ 2           ┆ … ┆ 0         ┆ 0         ┆ 0         ┆ AAPL   │\n",
       "│ 09:00:00.01 ┆ 09:00:00.01 ┆       ┆             ┆   ┆           ┆           ┆           ┆        │\n",
       "│ 4044826Z    ┆ 3878689Z    ┆       ┆             ┆   ┆           ┆           ┆           ┆        │\n",
       "└─────────────┴─────────────┴───────┴─────────────┴───┴───────────┴───────────┴───────────┴────────┘"
      ]
     },
     "execution_count": 8,
     "metadata": {},
     "output_type": "execute_result"
    }
   ],
   "source": [
    "import glob\n",
    "import pandas as pd\n",
    "import polars as pl\n",
    "\n",
    "# Define the file pattern\n",
    "file_pattern = '/Users/famadeo/Development/Blockhouse/XNAS-20250105-SEG874YYUF/xnas-itch-202412??.mbp-10.csv'\n",
    "\n",
    "# Get the list of files matching the pattern\n",
    "file_list = glob.glob(file_pattern)\n",
    "\n",
    "# Load each file into a DataFrame and store them in a list\n",
    "dataframes = [pl.read_csv(file) for file in file_list]\n",
    "\n",
    "# Optionally, concatenate all DataFrames into a single DataFrame\n",
    "df = pl.concat(dataframes, how=\"vertical_relaxed\")\n",
    "\n",
    "# Display the combined DataFrame\n",
    "df.head()"
   ]
  },
  {
   "cell_type": "code",
   "execution_count": 9,
   "metadata": {},
   "outputs": [
    {
     "name": "stdout",
     "output_type": "stream",
     "text": [
      "dict_keys(['AAPL', 'AMGN', 'TSLA', 'XOM', 'JPM'])\n"
     ]
    }
   ],
   "source": [
    "# Get the unique symbols from the orderbook\n",
    "symbols = df['symbol'].unique()\n",
    "\n",
    "# Create a dictionary to store DataFrames for each symbol\n",
    "orderbook_dict = {symbol: df.filter(pl.col('symbol') == symbol) for symbol in symbols}\n",
    "\n",
    "# Display the dictionary keys to verify\n",
    "print(orderbook_dict.keys())"
   ]
  },
  {
   "cell_type": "code",
   "execution_count": 16,
   "metadata": {},
   "outputs": [
    {
     "name": "stdout",
     "output_type": "stream",
     "text": [
      "shape: (1, 57)\n",
      "┌───────┬──────────────┬───────────────┬───────┬───┬───────────┬───────────┬───────────┬───────────┐\n",
      "│ rtype ┆ publisher_id ┆ instrument_id ┆ depth ┆ … ┆ bid_sz_09 ┆ ask_sz_09 ┆ bid_ct_09 ┆ ask_ct_09 │\n",
      "│ ---   ┆ ---          ┆ ---           ┆ ---   ┆   ┆ ---       ┆ ---       ┆ ---       ┆ ---       │\n",
      "│ u32   ┆ u32          ┆ u32           ┆ u32   ┆   ┆ u32       ┆ u32       ┆ u32       ┆ u32       │\n",
      "╞═══════╪══════════════╪═══════════════╪═══════╪═══╪═══════════╪═══════════╪═══════════╪═══════════╡\n",
      "│ 0     ┆ 0            ┆ 0             ┆ 0     ┆ … ┆ 0         ┆ 0         ┆ 0         ┆ 0         │\n",
      "└───────┴──────────────┴───────────────┴───────┴───┴───────────┴───────────┴───────────┴───────────┘\n",
      "shape: (1, 74)\n",
      "┌─────────┬──────────┬───────┬──────────────┬───┬───────────┬───────────┬───────────┬────────┐\n",
      "│ ts_recv ┆ ts_event ┆ rtype ┆ publisher_id ┆ … ┆ ask_sz_09 ┆ bid_ct_09 ┆ ask_ct_09 ┆ symbol │\n",
      "│ ---     ┆ ---      ┆ ---   ┆ ---          ┆   ┆ ---       ┆ ---       ┆ ---       ┆ ---    │\n",
      "│ u32     ┆ u32      ┆ u32   ┆ u32          ┆   ┆ u32       ┆ u32       ┆ u32       ┆ u32    │\n",
      "╞═════════╪══════════╪═══════╪══════════════╪═══╪═══════════╪═══════════╪═══════════╪════════╡\n",
      "│ 0       ┆ 0        ┆ 0     ┆ 0            ┆ … ┆ 0         ┆ 0         ┆ 0         ┆ 0      │\n",
      "└─────────┴──────────┴───────┴──────────────┴───┴───────────┴───────────┴───────────┴────────┘\n"
     ]
    }
   ],
   "source": [
    "# Filter columns to include only numeric types\n",
    "numeric_columns = [col for col in df.columns if df[col].dtype in [pl.Int8, pl.Int16, pl.Int32, pl.Int64, pl.UInt8, pl.UInt16, pl.UInt32, pl.UInt64, pl.Float32, pl.Float64]]\n",
    "\n",
    "# Calculate NaN counts for numeric columns\n",
    "nan_counts = df.select([pl.col(col).is_nan().sum().alias(col) for col in numeric_columns])\n",
    "print(nan_counts)\n"
   ]
  },
  {
   "cell_type": "code",
   "execution_count": null,
   "metadata": {},
   "outputs": [],
   "source": [
    "null_counts = df.select([pl.col(col).is_null().sum().alias(col) for col in df.columns])\n",
    "print(null_counts)"
   ]
  },
  {
   "cell_type": "code",
   "execution_count": 17,
   "metadata": {},
   "outputs": [
    {
     "name": "stdout",
     "output_type": "stream",
     "text": [
      "Saved AAPL to AAPL_20241202-20250104.parquet\n",
      "Saved AMGN to AMGN_20241202-20250104.parquet\n",
      "Saved TSLA to TSLA_20241202-20250104.parquet\n",
      "Saved XOM to XOM_20241202-20250104.parquet\n",
      "Saved JPM to JPM_20241202-20250104.parquet\n"
     ]
    }
   ],
   "source": [
    "# Save each Polars DataFrame to a Parquet file\n",
    "for symbol, orderbook in orderbook_dict.items():\n",
    "    filename = f\"{symbol}_20241202-20250104.parquet\"\n",
    "    orderbook = orderbook.fill_null(strategy=\"forward\").fill_null(strategy=\"backward\")\n",
    "    orderbook.write_parquet(filename)\n",
    "    print(f\"Saved {symbol} to {filename}\")"
   ]
  },
  {
   "cell_type": "code",
   "execution_count": 12,
   "metadata": {},
   "outputs": [
    {
     "name": "stdout",
     "output_type": "stream",
     "text": [
      "AAPL -- (24850883, 74)\n",
      "AMGN -- (1550200, 74)\n",
      "TSLA -- (38744363, 74)\n",
      "XOM -- (8239659, 74)\n",
      "JPM -- (3165655, 74)\n"
     ]
    }
   ],
   "source": [
    "for symbol, orderbook in orderbook_dict.items():\n",
    "    print(f\"{symbol} -- {orderbook.shape}\")\n"
   ]
  },
  {
   "cell_type": "code",
   "execution_count": null,
   "metadata": {},
   "outputs": [],
   "source": [
    "tesla_orderbook = orderbook_df[orderbook_df['Symbol'] == 'TSLA']"
   ]
  },
  {
   "cell_type": "code",
   "execution_count": 23,
   "metadata": {},
   "outputs": [
    {
     "name": "stdout",
     "output_type": "stream",
     "text": [
      "shape: (5, 74)\n",
      "┌─────────────┬─────────────┬───────┬─────────────┬───┬───────────┬───────────┬───────────┬────────┐\n",
      "│ ts_recv     ┆ ts_event    ┆ rtype ┆ publisher_i ┆ … ┆ ask_sz_09 ┆ bid_ct_09 ┆ ask_ct_09 ┆ symbol │\n",
      "│ ---         ┆ ---         ┆ ---   ┆ d           ┆   ┆ ---       ┆ ---       ┆ ---       ┆ ---    │\n",
      "│ str         ┆ str         ┆ i64   ┆ ---         ┆   ┆ i64       ┆ i64       ┆ i64       ┆ str    │\n",
      "│             ┆             ┆       ┆ i64         ┆   ┆           ┆           ┆           ┆        │\n",
      "╞═════════════╪═════════════╪═══════╪═════════════╪═══╪═══════════╪═══════════╪═══════════╪════════╡\n",
      "│ 2024-12-12T ┆ 2024-12-12T ┆ 10    ┆ 2           ┆ … ┆ 0         ┆ 0         ┆ 0         ┆ AAPL   │\n",
      "│ 09:00:00.01 ┆ 09:00:00.01 ┆       ┆             ┆   ┆           ┆           ┆           ┆        │\n",
      "│ 4044826Z    ┆ 3878689Z    ┆       ┆             ┆   ┆           ┆           ┆           ┆        │\n",
      "│ 2024-12-12T ┆ 2024-12-12T ┆ 10    ┆ 2           ┆ … ┆ 0         ┆ 0         ┆ 0         ┆ AAPL   │\n",
      "│ 09:00:00.01 ┆ 09:00:00.01 ┆       ┆             ┆   ┆           ┆           ┆           ┆        │\n",
      "│ 6479611Z    ┆ 6313406Z    ┆       ┆             ┆   ┆           ┆           ┆           ┆        │\n",
      "│ 2024-12-12T ┆ 2024-12-12T ┆ 10    ┆ 2           ┆ … ┆ 0         ┆ 0         ┆ 0         ┆ AAPL   │\n",
      "│ 09:00:00.02 ┆ 09:00:00.02 ┆       ┆             ┆   ┆           ┆           ┆           ┆        │\n",
      "│ 3854595Z    ┆ 3688519Z    ┆       ┆             ┆   ┆           ┆           ┆           ┆        │\n",
      "│ 2024-12-12T ┆ 2024-12-12T ┆ 10    ┆ 2           ┆ … ┆ 0         ┆ 0         ┆ 0         ┆ AAPL   │\n",
      "│ 09:00:00.02 ┆ 09:00:00.02 ┆       ┆             ┆   ┆           ┆           ┆           ┆        │\n",
      "│ 5100734Z    ┆ 4933368Z    ┆       ┆             ┆   ┆           ┆           ┆           ┆        │\n",
      "│ 2024-12-12T ┆ 2024-12-12T ┆ 10    ┆ 2           ┆ … ┆ 0         ┆ 0         ┆ 0         ┆ AAPL   │\n",
      "│ 09:00:00.10 ┆ 09:00:00.10 ┆       ┆             ┆   ┆           ┆           ┆           ┆        │\n",
      "│ 8371273Z    ┆ 8198764Z    ┆       ┆             ┆   ┆           ┆           ┆           ┆        │\n",
      "└─────────────┴─────────────┴───────┴─────────────┴───┴───────────┴───────────┴───────────┴────────┘\n"
     ]
    }
   ],
   "source": [
    "import os\n",
    "import yaml\n",
    "import polars as pl\n",
    "\n",
    "def load_symbol_data(symbol_name):\n",
    "    # Load the configuration file\n",
    "    with open('config.yaml', 'r') as file:\n",
    "        config = yaml.safe_load(file)\n",
    "    \n",
    "    # Check if the symbol name exists in the config\n",
    "    if symbol_name not in config:\n",
    "        raise ValueError(f\"Symbol '{symbol_name}' not found in config.yaml\")\n",
    "    \n",
    "    # Get the file path for the symbol\n",
    "    filename = config[symbol_name]\n",
    "    \n",
    "    # Check if the file path is valid\n",
    "    if not  filename or not isinstance(filename, str):\n",
    "        raise ValueError(f\"Invalid file path for symbol '{symbol_name}' in config.yaml\")\n",
    "    \n",
    "    # Load the parquet file into a Polars DataFrame\n",
    "    try:\n",
    "        current_dir = os.getcwd()\n",
    "        # Construct the relative path to the file\n",
    "        filename = os.path.join(current_dir, '..', 'data', filename)\n",
    "\n",
    "        df = pl.read_parquet(filename)\n",
    "    except Exception as e:\n",
    "        raise IOError(f\"Error loading file '{filename}': {e}\")\n",
    "    \n",
    "    return df\n",
    "\n",
    "# Example usage\n",
    "df = load_symbol_data('AAPL')\n",
    "print(df.head())"
   ]
  }
 ],
 "metadata": {
  "kernelspec": {
   "display_name": "Python 3",
   "language": "python",
   "name": "python3"
  },
  "language_info": {
   "codemirror_mode": {
    "name": "ipython",
    "version": 3
   },
   "file_extension": ".py",
   "mimetype": "text/x-python",
   "name": "python",
   "nbconvert_exporter": "python",
   "pygments_lexer": "ipython3",
   "version": "3.11.9"
  }
 },
 "nbformat": 4,
 "nbformat_minor": 2
}
